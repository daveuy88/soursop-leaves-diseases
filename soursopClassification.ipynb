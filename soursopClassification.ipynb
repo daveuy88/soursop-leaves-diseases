{
 "cells": [
  {
   "cell_type": "code",
   "execution_count": 1,
   "id": "5bea2c35-7fc5-41f6-a526-aebfd5df4552",
   "metadata": {},
   "outputs": [],
   "source": [
    "import tensorflow as tf\n",
    "from tensorflow.keras import models, layers\n",
    "import matplotlib.pyplot as plt\n",
    "import pandas as pd\n",
    "import seaborn as sns\n",
    "\n",
    "from tensorflow.keras.preprocessing.image import ImageDataGenerator"
   ]
  },
  {
   "cell_type": "code",
   "execution_count": 2,
   "id": "ecd3e42e-405a-43c6-9345-e07d813912e6",
   "metadata": {},
   "outputs": [
    {
     "name": "stderr",
     "output_type": "stream",
     "text": [
      "Copying files: 3838 files [00:06, 625.11 files/s]\n"
     ]
    }
   ],
   "source": [
    "\n",
    "import splitfolders\n",
    "\n",
    "# Define the input folder containing subfolders for each class\n",
    "input_folder = \"Soursop\"  # Replace with your dataset folder\n",
    "\n",
    "# Split the dataset into train (70%), val (20%), test (10%)\n",
    "splitfolders.ratio(\n",
    "    input_folder, \n",
    "    output=\"soursopLeavesdatasets\",  # Destination folder\n",
    "    seed=42, \n",
    "    ratio=(0.7, 0.2, 0.1), \n",
    "    group_prefix=None,  # Keeps images from the same class together\n",
    "    move=False  # Set to True to move files instead of copying\n",
    ")\n",
    "\n"
   ]
  },
  {
   "cell_type": "code",
   "execution_count": 3,
   "id": "94c0db68-c851-497d-92fb-5d88593bcf67",
   "metadata": {},
   "outputs": [
    {
     "name": "stdout",
     "output_type": "stream",
     "text": [
      "2.18.0\n"
     ]
    }
   ],
   "source": [
    "##import tensorflow as tf  ## this to know the version of Tensorflow\n",
    "print(tf.__version__)\n",
    "\n",
    "tf.config.run_functions_eagerly(True) ##If using TensorFlow 2.x, ensure eager execution is enabled"
   ]
  },
  {
   "cell_type": "code",
   "execution_count": 13,
   "id": "7e8c81ce-f5cd-4b0a-af04-1d0b36ce1fc2",
   "metadata": {},
   "outputs": [],
   "source": [
    "##Training Image Preprocessing"
   ]
  },
  {
   "cell_type": "code",
   "execution_count": 4,
   "id": "e7df86f3-015d-4fd3-99bd-654c18e59648",
   "metadata": {},
   "outputs": [],
   "source": [
    "IMAGE_SIZE = 256\n",
    "CHANNELS = 3\n",
    "BATCH_SIZE = 32"
   ]
  },
  {
   "cell_type": "code",
   "execution_count": 6,
   "id": "cc9c7bfc-ee9f-4e66-a16a-bb9cf3409553",
   "metadata": {},
   "outputs": [
    {
     "name": "stdout",
     "output_type": "stream",
     "text": [
      "Found 2684 files belonging to 6 classes.\n"
     ]
    }
   ],
   "source": [
    "training_set = tf.keras.utils.image_dataset_from_directory(\n",
    "    'soursopLeavesdatasets/train',\n",
    "    labels=\"inferred\",\n",
    "    label_mode=\"categorical\",\n",
    "    class_names=None,\n",
    "    color_mode=\"rgb\",\n",
    "    batch_size=BATCH_SIZE,\n",
    "    image_size=(IMAGE_SIZE,IMAGE_SIZE),\n",
    "    shuffle=True,\n",
    "    seed=None,\n",
    "    validation_split=None,\n",
    "    subset=None,\n",
    "    interpolation=\"bilinear\",\n",
    "    follow_links=False,\n",
    "    crop_to_aspect_ratio=False,\n",
    ")"
   ]
  },
  {
   "cell_type": "code",
   "execution_count": 7,
   "id": "50a28a6a-8803-4bc9-b6ea-8b3696a8511d",
   "metadata": {},
   "outputs": [
    {
     "name": "stdout",
     "output_type": "stream",
     "text": [
      "Found 766 files belonging to 6 classes.\n"
     ]
    }
   ],
   "source": [
    "validation_set = tf.keras.utils.image_dataset_from_directory(\n",
    "    'soursopLeavesdatasets/val',\n",
    "    labels=\"inferred\",\n",
    "    label_mode=\"categorical\",\n",
    "    class_names=None,\n",
    "    color_mode=\"rgb\",\n",
    "    batch_size=BATCH_SIZE,\n",
    "    image_size=(IMAGE_SIZE,IMAGE_SIZE),\n",
    "    shuffle=True,\n",
    "    seed=None,\n",
    "    validation_split=None,\n",
    "    subset=None,\n",
    "    interpolation=\"bilinear\",\n",
    "    follow_links=False,\n",
    "    crop_to_aspect_ratio=False,\n",
    ")"
   ]
  },
  {
   "cell_type": "code",
   "execution_count": 8,
   "id": "48112193-d82f-4451-85ad-559fbbd2da19",
   "metadata": {},
   "outputs": [
    {
     "data": {
      "text/plain": [
       "<_PrefetchDataset element_spec=(TensorSpec(shape=(None, 256, 256, 3), dtype=tf.float32, name=None), TensorSpec(shape=(None, 6), dtype=tf.float32, name=None))>"
      ]
     },
     "execution_count": 8,
     "metadata": {},
     "output_type": "execute_result"
    }
   ],
   "source": [
    "training_set"
   ]
  },
  {
   "cell_type": "code",
   "execution_count": 9,
   "id": "80e9cd53-a761-41dd-acb5-2c459519f2da",
   "metadata": {},
   "outputs": [
    {
     "data": {
      "text/plain": [
       "<_PrefetchDataset element_spec=(TensorSpec(shape=(None, 256, 256, 3), dtype=tf.float32, name=None), TensorSpec(shape=(None, 6), dtype=tf.float32, name=None))>"
      ]
     },
     "execution_count": 9,
     "metadata": {},
     "output_type": "execute_result"
    }
   ],
   "source": [
    "validation_set"
   ]
  },
  {
   "cell_type": "code",
   "execution_count": 10,
   "id": "d40a96d4-2006-450f-95e8-3b04abe4a3bb",
   "metadata": {},
   "outputs": [
    {
     "name": "stdout",
     "output_type": "stream",
     "text": [
      "tf.Tensor(\n",
      "[[[[236.5       233.5       218.5      ]\n",
      "   [237.63281   234.63281   219.63281  ]\n",
      "   [236.16797   233.16797   218.16797  ]\n",
      "   ...\n",
      "   [232.125     228.125     216.125    ]\n",
      "   [232.21875   228.21875   216.21875  ]\n",
      "   [233.125     229.125     217.125    ]]\n",
      "\n",
      "  [[231.875     228.875     213.875    ]\n",
      "   [235.27344   232.27344   217.27344  ]\n",
      "   [234.78125   231.78125   216.78125  ]\n",
      "   ...\n",
      "   [226.0586    222.0586    210.0586   ]\n",
      "   [226.5039    222.5039    210.5039   ]\n",
      "   [227.75      223.75      211.75     ]]\n",
      "\n",
      "  [[230.625     227.625     212.625    ]\n",
      "   [235.15625   232.15625   217.15625  ]\n",
      "   [233.72656   230.72656   215.72656  ]\n",
      "   ...\n",
      "   [228.03125   224.03125   212.03125  ]\n",
      "   [229.0625    225.0625    213.0625   ]\n",
      "   [230.875     226.875     214.875    ]]\n",
      "\n",
      "  ...\n",
      "\n",
      "  [[172.375     169.375     154.375    ]\n",
      "   [173.50781   170.50781   155.50781  ]\n",
      "   [174.36328   171.36328   156.36328  ]\n",
      "   ...\n",
      "   [217.5       213.5       201.5      ]\n",
      "   [217.57031   213.57031   201.57031  ]\n",
      "   [218.25      214.25      202.25     ]]\n",
      "\n",
      "  [[167.375     164.375     149.375    ]\n",
      "   [173.60547   170.60547   155.60547  ]\n",
      "   [177.625     174.625     159.625    ]\n",
      "   ...\n",
      "   [219.66797   215.66797   203.66797  ]\n",
      "   [220.67578   216.67578   204.67578  ]\n",
      "   [215.125     211.125     199.125    ]]\n",
      "\n",
      "  [[167.875     164.875     149.875    ]\n",
      "   [174.33203   171.33203   156.33203  ]\n",
      "   [176.89844   173.89844   158.89844  ]\n",
      "   ...\n",
      "   [224.2539    220.2539    208.2539   ]\n",
      "   [228.16797   224.16797   212.16797  ]\n",
      "   [220.125     216.125     204.125    ]]]\n",
      "\n",
      "\n",
      " [[[184.875     188.875     187.875    ]\n",
      "   [183.625     187.625     186.625    ]\n",
      "   [182.375     186.375     185.375    ]\n",
      "   ...\n",
      "   [197.        201.        200.       ]\n",
      "   [197.        201.        200.       ]\n",
      "   [196.125     200.125     199.125    ]]\n",
      "\n",
      "  [[183.0625    187.0625    186.0625   ]\n",
      "   [182.15234   186.15234   185.15234  ]\n",
      "   [182.03516   186.03516   185.03516  ]\n",
      "   ...\n",
      "   [196.09375   200.09375   199.09375  ]\n",
      "   [196.09375   200.09375   199.09375  ]\n",
      "   [195.21875   199.21875   198.21875  ]]\n",
      "\n",
      "  [[182.13672   186.13672   185.13672  ]\n",
      "   [181.6836    185.6836    184.6836   ]\n",
      "   [181.6836    185.6836    184.6836   ]\n",
      "   ...\n",
      "   [196.        200.        199.       ]\n",
      "   [196.        200.        199.       ]\n",
      "   [195.86328   199.86328   198.86328  ]]\n",
      "\n",
      "  ...\n",
      "\n",
      "  [[152.70703   153.70703   148.70703  ]\n",
      "   [152.96094   153.96094   148.96094  ]\n",
      "   [153.15625   154.15625   149.15625  ]\n",
      "   ...\n",
      "   [174.83984   176.83984   171.83984  ]\n",
      "   [174.83984   176.83984   171.83984  ]\n",
      "   [175.01953   177.01953   172.01953  ]]\n",
      "\n",
      "  [[150.86719   151.86719   146.86719  ]\n",
      "   [152.6914    153.6914    148.6914   ]\n",
      "   [154.        155.        150.       ]\n",
      "   ...\n",
      "   [176.09375   178.09375   173.09375  ]\n",
      "   [176.03516   178.03516   173.03516  ]\n",
      "   [175.125     177.125     172.125    ]]\n",
      "\n",
      "  [[148.375     149.375     144.375    ]\n",
      "   [152.125     153.125     148.125    ]\n",
      "   [154.        155.        150.       ]\n",
      "   ...\n",
      "   [177.        179.        174.       ]\n",
      "   [176.375     178.375     173.375    ]\n",
      "   [175.125     177.125     172.125    ]]]\n",
      "\n",
      "\n",
      " [[[ 28.         46.          8.       ]\n",
      "   [ 22.875      40.875       2.875    ]\n",
      "   [ 29.125      47.125       9.125    ]\n",
      "   ...\n",
      "   [204.75      199.75      193.75     ]\n",
      "   [201.625     196.625     190.625    ]\n",
      "   [199.875     194.875     188.875    ]]\n",
      "\n",
      "  [[ 32.64453    50.64453    12.644531 ]\n",
      "   [ 26.953125   44.953125    6.953125 ]\n",
      "   [ 29.804688   47.804688    9.8046875]\n",
      "   ...\n",
      "   [204.41016   199.41016   193.41016  ]\n",
      "   [202.41797   197.41797   191.41797  ]\n",
      "   [200.89453   195.89453   189.89453  ]]\n",
      "\n",
      "  [[ 32.808594   50.808594   12.808594 ]\n",
      "   [ 30.433594   48.433594   10.433594 ]\n",
      "   [ 30.824219   48.82422    10.824219 ]\n",
      "   ...\n",
      "   [204.79688   199.79688   193.79688  ]\n",
      "   [202.92188   197.92188   191.92188  ]\n",
      "   [201.21094   196.21094   190.21094  ]]\n",
      "\n",
      "  ...\n",
      "\n",
      "  [[201.33203   196.33203   192.33203  ]\n",
      "   [200.45312   195.45312   191.45312  ]\n",
      "   [201.35156   196.35156   192.35156  ]\n",
      "   ...\n",
      "   [204.22656   199.22656   195.22656  ]\n",
      "   [202.2539    197.2539    193.2539   ]\n",
      "   [204.33594   199.33594   195.33594  ]]\n",
      "\n",
      "  [[200.13672   195.13672   191.13672  ]\n",
      "   [203.95703   198.95703   194.95703  ]\n",
      "   [199.9336    194.9336    190.9336   ]\n",
      "   ...\n",
      "   [206.1836    201.1836    197.1836   ]\n",
      "   [203.6836    198.6836    194.6836   ]\n",
      "   [207.83984   202.83984   198.83984  ]]\n",
      "\n",
      "  [[203.875     198.875     194.875    ]\n",
      "   [201.125     196.125     192.125    ]\n",
      "   [200.5       195.5       191.5      ]\n",
      "   ...\n",
      "   [206.75      201.75      197.75     ]\n",
      "   [204.25      199.25      195.25     ]\n",
      "   [211.125     206.125     202.125    ]]]\n",
      "\n",
      "\n",
      " ...\n",
      "\n",
      "\n",
      " [[[213.875     213.875     203.875    ]\n",
      "   [214.5       214.5       204.5      ]\n",
      "   [213.25      213.25      203.25     ]\n",
      "   ...\n",
      "   [219.375     215.375     206.375    ]\n",
      "   [220.625     216.625     207.625    ]\n",
      "   [221.        217.        208.       ]]\n",
      "\n",
      "  [[216.36719   216.36719   206.36719  ]\n",
      "   [215.40625   215.40625   205.40625  ]\n",
      "   [214.15625   214.15625   204.15625  ]\n",
      "   ...\n",
      "   [219.03516   215.03516   206.03516  ]\n",
      "   [219.71875   215.71875   206.71875  ]\n",
      "   [220.09375   216.09375   207.09375  ]]\n",
      "\n",
      "  [[217.25781   217.25781   207.25781  ]\n",
      "   [214.65625   214.65625   204.65625  ]\n",
      "   [214.46094   214.46094   204.46094  ]\n",
      "   ...\n",
      "   [219.21094   215.21094   206.21094  ]\n",
      "   [218.2539    214.2539    205.2539   ]\n",
      "   [218.3125    214.3125    205.3125   ]]\n",
      "\n",
      "  ...\n",
      "\n",
      "  [[222.125     222.125     212.125    ]\n",
      "   [223.3164    223.3164    213.3164   ]\n",
      "   [223.84375   223.84375   213.84375  ]\n",
      "   ...\n",
      "   [221.42969   217.42969   208.42969  ]\n",
      "   [221.        217.        208.       ]\n",
      "   [221.60156   217.60156   208.60156  ]]\n",
      "\n",
      "  [[222.11328   222.11328   212.11328  ]\n",
      "   [222.9414    222.9414    212.9414   ]\n",
      "   [222.9414    222.9414    212.9414   ]\n",
      "   ...\n",
      "   [220.22266   216.22266   207.22266  ]\n",
      "   [220.90625   216.90625   207.90625  ]\n",
      "   [219.94922   215.94922   206.94922  ]]\n",
      "\n",
      "  [[222.        222.        212.       ]\n",
      "   [222.375     222.375     212.375    ]\n",
      "   [222.375     222.375     212.375    ]\n",
      "   ...\n",
      "   [218.75      214.75      205.75     ]\n",
      "   [220.        216.        207.       ]\n",
      "   [218.25      214.25      205.25     ]]]\n",
      "\n",
      "\n",
      " [[[191.375     184.375     176.375    ]\n",
      "   [186.25      180.375     172.       ]\n",
      "   [186.25      182.25      173.25     ]\n",
      "   ...\n",
      "   [190.875     186.875     175.875    ]\n",
      "   [188.375     184.375     173.375    ]\n",
      "   [194.125     190.125     179.125    ]]\n",
      "\n",
      "  [[193.41406   186.41406   178.41406  ]\n",
      "   [189.19531   183.32031   174.94531  ]\n",
      "   [187.4961    183.4961    174.4961   ]\n",
      "   ...\n",
      "   [198.46484   194.46484   183.46484  ]\n",
      "   [193.69922   189.69922   178.69922  ]\n",
      "   [191.40625   187.40625   176.40625  ]]\n",
      "\n",
      "  [[189.61719   182.61719   174.61719  ]\n",
      "   [187.60156   181.72656   173.35156  ]\n",
      "   [186.78125   182.78125   173.78125  ]\n",
      "   ...\n",
      "   [194.08203   190.08203   179.08203  ]\n",
      "   [194.35547   190.35547   179.35547  ]\n",
      "   [194.28906   190.28906   179.28906  ]]\n",
      "\n",
      "  ...\n",
      "\n",
      "  [[152.16016   152.16016   142.16016  ]\n",
      "   [150.27734   150.27734   140.27734  ]\n",
      "   [151.52734   151.52734   141.52734  ]\n",
      "   ...\n",
      "   [190.44531   183.44531   173.44531  ]\n",
      "   [187.63281   180.63281   170.63281  ]\n",
      "   [189.64062   182.64062   172.64062  ]]\n",
      "\n",
      "  [[144.46094   144.46094   134.46094  ]\n",
      "   [146.75      146.75      136.75     ]\n",
      "   [147.88281   147.88281   137.88281  ]\n",
      "   ...\n",
      "   [185.01953   178.01953   168.01953  ]\n",
      "   [190.58594   183.58594   173.58594  ]\n",
      "   [194.07031   187.07031   177.07031  ]]\n",
      "\n",
      "  [[146.5       146.5       136.5      ]\n",
      "   [150.375     150.375     140.375    ]\n",
      "   [150.375     150.375     140.375    ]\n",
      "   ...\n",
      "   [187.625     180.625     170.625    ]\n",
      "   [192.625     185.625     175.625    ]\n",
      "   [183.875     176.875     166.875    ]]]\n",
      "\n",
      "\n",
      " [[[183.        187.        186.       ]\n",
      "   [183.        187.        186.       ]\n",
      "   [183.        187.        186.       ]\n",
      "   ...\n",
      "   [201.75      205.75      204.75     ]\n",
      "   [202.375     206.375     205.375    ]\n",
      "   [200.25      204.25      203.25     ]]\n",
      "\n",
      "  [[183.        187.        186.       ]\n",
      "   [183.        187.        186.       ]\n",
      "   [183.        187.        186.       ]\n",
      "   ...\n",
      "   [201.75      205.75      204.75     ]\n",
      "   [202.375     206.375     205.375    ]\n",
      "   [200.25      204.25      203.25     ]]\n",
      "\n",
      "  [[183.        187.        186.       ]\n",
      "   [182.6836    186.6836    185.6836   ]\n",
      "   [182.15625   186.15625   185.15625  ]\n",
      "   ...\n",
      "   [201.75      205.75      204.75     ]\n",
      "   [202.90234   206.90234   205.90234  ]\n",
      "   [201.09375   205.09375   204.09375  ]]\n",
      "\n",
      "  ...\n",
      "\n",
      "  [[173.89453   177.89453   176.89453  ]\n",
      "   [173.15625   177.15625   176.15625  ]\n",
      "   [173.15625   177.15625   176.15625  ]\n",
      "   ...\n",
      "   [209.        213.        212.       ]\n",
      "   [209.625     213.625     212.625    ]\n",
      "   [210.        214.        213.       ]]\n",
      "\n",
      "  [[173.91797   177.91797   176.91797  ]\n",
      "   [174.03516   178.03516   177.03516  ]\n",
      "   [174.09375   178.09375   177.09375  ]\n",
      "   ...\n",
      "   [209.09375   213.09375   212.09375  ]\n",
      "   [209.60156   213.60156   212.60156  ]\n",
      "   [209.90625   213.90625   212.90625  ]]\n",
      "\n",
      "  [[173.125     177.125     176.125    ]\n",
      "   [174.375     178.375     177.375    ]\n",
      "   [175.        179.        178.       ]\n",
      "   ...\n",
      "   [210.        214.        213.       ]\n",
      "   [209.375     213.375     212.375    ]\n",
      "   [209.        213.        212.       ]]]], shape=(32, 256, 256, 3), dtype=float32) (32, 256, 256, 3)\n",
      "tf.Tensor(\n",
      "[[0. 1. 0. 0. 0. 0.]\n",
      " [1. 0. 0. 0. 0. 0.]\n",
      " [0. 0. 0. 0. 1. 0.]\n",
      " [0. 0. 0. 0. 1. 0.]\n",
      " [1. 0. 0. 0. 0. 0.]\n",
      " [0. 0. 0. 0. 0. 1.]\n",
      " [1. 0. 0. 0. 0. 0.]\n",
      " [1. 0. 0. 0. 0. 0.]\n",
      " [0. 0. 0. 0. 1. 0.]\n",
      " [0. 0. 0. 0. 1. 0.]\n",
      " [0. 0. 1. 0. 0. 0.]\n",
      " [1. 0. 0. 0. 0. 0.]\n",
      " [0. 0. 1. 0. 0. 0.]\n",
      " [0. 0. 0. 0. 1. 0.]\n",
      " [0. 1. 0. 0. 0. 0.]\n",
      " [0. 0. 0. 1. 0. 0.]\n",
      " [0. 1. 0. 0. 0. 0.]\n",
      " [0. 0. 1. 0. 0. 0.]\n",
      " [0. 0. 0. 1. 0. 0.]\n",
      " [0. 1. 0. 0. 0. 0.]\n",
      " [0. 0. 1. 0. 0. 0.]\n",
      " [0. 0. 1. 0. 0. 0.]\n",
      " [0. 0. 1. 0. 0. 0.]\n",
      " [0. 0. 1. 0. 0. 0.]\n",
      " [0. 0. 0. 1. 0. 0.]\n",
      " [0. 1. 0. 0. 0. 0.]\n",
      " [0. 0. 0. 1. 0. 0.]\n",
      " [0. 0. 0. 1. 0. 0.]\n",
      " [0. 1. 0. 0. 0. 0.]\n",
      " [0. 0. 0. 1. 0. 0.]\n",
      " [0. 0. 0. 1. 0. 0.]\n",
      " [0. 0. 0. 0. 0. 1.]], shape=(32, 6), dtype=float32) (32, 6)\n"
     ]
    }
   ],
   "source": [
    "for x,y in training_set:\n",
    "    print(x,x.shape)\n",
    "    print(y,y.shape)\n",
    "    break"
   ]
  },
  {
   "cell_type": "code",
   "execution_count": 20,
   "id": "17409569-f7cd-4d8c-bc49-c6c5a14bc579",
   "metadata": {},
   "outputs": [],
   "source": [
    "##class name"
   ]
  },
  {
   "cell_type": "code",
   "execution_count": 12,
   "id": "63377754-bf5f-474d-a97b-642042a4a745",
   "metadata": {},
   "outputs": [
    {
     "ename": "NameError",
     "evalue": "name 'train_generator' is not defined",
     "output_type": "error",
     "traceback": [
      "\u001b[1;31m---------------------------------------------------------------------------\u001b[0m",
      "\u001b[1;31mNameError\u001b[0m                                 Traceback (most recent call last)",
      "Cell \u001b[1;32mIn[12], line 1\u001b[0m\n\u001b[1;32m----> 1\u001b[0m \u001b[43mtrain_generator\u001b[49m\u001b[38;5;241m.\u001b[39mclass_indices\n",
      "\u001b[1;31mNameError\u001b[0m: name 'train_generator' is not defined"
     ]
    }
   ],
   "source": [
    "train_generator.class_indices"
   ]
  },
  {
   "cell_type": "code",
   "execution_count": 25,
   "id": "bcf5d21d-8664-4d0f-97dc-61b44aca288a",
   "metadata": {},
   "outputs": [
    {
     "data": {
      "text/plain": [
       "['CuttingCaterpillar',\n",
       " 'CuttingWeevil',\n",
       " 'DieBack',\n",
       " 'Healthy',\n",
       " 'WhiteFly',\n",
       " 'Yellow']"
      ]
     },
     "execution_count": 25,
     "metadata": {},
     "output_type": "execute_result"
    }
   ],
   "source": [
    "class_names = list(train_generator.class_indices.keys())\n",
    "class_names"
   ]
  },
  {
   "cell_type": "code",
   "execution_count": 49,
   "id": "36fc4da4-4284-4741-b19f-a6ee58d7733b",
   "metadata": {},
   "outputs": [],
   "source": [
    "from tensorflow.keras.layers import Dense,Conv2D,MaxPool2D,Flatten,Dropout\n",
    "from tensorflow.keras.models import Sequential"
   ]
  },
  {
   "cell_type": "code",
   "execution_count": 50,
   "id": "7e92cb87-87dc-446b-810d-f5b73c4aeaa2",
   "metadata": {},
   "outputs": [],
   "source": [
    "model = Sequential()"
   ]
  },
  {
   "cell_type": "code",
   "execution_count": 23,
   "id": "4d6d1d8f-a136-4e9d-8272-f2b2b8140fef",
   "metadata": {},
   "outputs": [],
   "source": [
    "##Building Convulution Layer"
   ]
  },
  {
   "cell_type": "code",
   "execution_count": 51,
   "id": "7b23288e-521d-4071-b2db-d290700af057",
   "metadata": {},
   "outputs": [],
   "source": [
    "model.add(Conv2D(filters=32,kernel_size=3,padding='same',activation='relu',input_shape=[256,256,3]))\n",
    "model.add(Conv2D(filters=32,kernel_size=3,activation='relu'))\n",
    "model.add(MaxPool2D(pool_size=2,strides=2))"
   ]
  },
  {
   "cell_type": "code",
   "execution_count": 52,
   "id": "07645f08-23fa-444b-91e0-7700d50f969b",
   "metadata": {},
   "outputs": [],
   "source": [
    "model.add(Conv2D(filters=64,kernel_size=3,padding='same',activation='relu'))\n",
    "model.add(Conv2D(filters=64,kernel_size=3,activation='relu'))\n",
    "model.add(MaxPool2D(pool_size=2,strides=2))"
   ]
  },
  {
   "cell_type": "code",
   "execution_count": 53,
   "id": "25fe8c86-7aa8-405e-a70b-024d79c51d1c",
   "metadata": {},
   "outputs": [],
   "source": [
    "model.add(Conv2D(filters=128,kernel_size=3,padding='same',activation='relu'))\n",
    "model.add(Conv2D(filters=128,kernel_size=3,activation='relu'))\n",
    "model.add(MaxPool2D(pool_size=2,strides=2))"
   ]
  },
  {
   "cell_type": "code",
   "execution_count": 54,
   "id": "0f9a0676-0fa3-4754-ad21-7ed2904f943e",
   "metadata": {},
   "outputs": [],
   "source": [
    "model.add(Conv2D(filters=256,kernel_size=3,padding='same',activation='relu'))\n",
    "model.add(Conv2D(filters=256,kernel_size=3,activation='relu'))\n",
    "model.add(MaxPool2D(pool_size=2,strides=2))"
   ]
  },
  {
   "cell_type": "code",
   "execution_count": 55,
   "id": "b254f895-02fc-4e1e-a7fd-76048b174b85",
   "metadata": {},
   "outputs": [],
   "source": [
    "model.add(Conv2D(filters=512,kernel_size=3,padding='same',activation='relu'))\n",
    "model.add(Conv2D(filters=512,kernel_size=3,activation='relu'))\n",
    "model.add(MaxPool2D(pool_size=2,strides=2))"
   ]
  },
  {
   "cell_type": "code",
   "execution_count": 56,
   "id": "cffcceb4-ee70-4a02-a41a-70d0bf225a20",
   "metadata": {},
   "outputs": [],
   "source": [
    "model.add(Dropout(0.25)) # To avoid Overfitting"
   ]
  },
  {
   "cell_type": "code",
   "execution_count": 57,
   "id": "85784e5a-3988-4d53-aeb8-79c1685a5706",
   "metadata": {},
   "outputs": [],
   "source": [
    "model.add(Flatten())"
   ]
  },
  {
   "cell_type": "code",
   "execution_count": 58,
   "id": "04929a29-ff15-40aa-b488-a7124a423565",
   "metadata": {},
   "outputs": [],
   "source": [
    "model.add(Dense(units=1500,activation='relu'))"
   ]
  },
  {
   "cell_type": "code",
   "execution_count": 59,
   "id": "f1bdb7b2-6629-4a56-8f54-60585e331d0c",
   "metadata": {},
   "outputs": [],
   "source": [
    "model.add(Dropout(0.4))"
   ]
  },
  {
   "cell_type": "code",
   "execution_count": 60,
   "id": "fa66859b-8402-4058-9794-2db3a539bad9",
   "metadata": {},
   "outputs": [],
   "source": [
    "#Output Layer\n",
    "model.add(Dense(units=6,activation='softmax'))"
   ]
  },
  {
   "cell_type": "code",
   "execution_count": 66,
   "id": "830abf75-cc37-4646-a76c-9f3ced389975",
   "metadata": {},
   "outputs": [],
   "source": [
    "model.compile(\n",
    "    optimizer='adam',\n",
    "    loss=tf.keras.losses.SparseCategoricalCrossentropy(from_logits=False),\n",
    "    metrics=['accuracy']\n",
    ")"
   ]
  },
  {
   "cell_type": "code",
   "execution_count": 67,
   "id": "9ca619b4-bc23-4091-82cf-d84bfa644314",
   "metadata": {},
   "outputs": [
    {
     "data": {
      "text/html": [
       "<pre style=\"white-space:pre;overflow-x:auto;line-height:normal;font-family:Menlo,'DejaVu Sans Mono',consolas,'Courier New',monospace\"><span style=\"font-weight: bold\">Model: \"sequential_3\"</span>\n",
       "</pre>\n"
      ],
      "text/plain": [
       "\u001b[1mModel: \"sequential_3\"\u001b[0m\n"
      ]
     },
     "metadata": {},
     "output_type": "display_data"
    },
    {
     "data": {
      "text/html": [
       "<pre style=\"white-space:pre;overflow-x:auto;line-height:normal;font-family:Menlo,'DejaVu Sans Mono',consolas,'Courier New',monospace\">┏━━━━━━━━━━━━━━━━━━━━━━━━━━━━━━━━━━━━━━┳━━━━━━━━━━━━━━━━━━━━━━━━━━━━━┳━━━━━━━━━━━━━━━━━┓\n",
       "┃<span style=\"font-weight: bold\"> Layer (type)                         </span>┃<span style=\"font-weight: bold\"> Output Shape                </span>┃<span style=\"font-weight: bold\">         Param # </span>┃\n",
       "┡━━━━━━━━━━━━━━━━━━━━━━━━━━━━━━━━━━━━━━╇━━━━━━━━━━━━━━━━━━━━━━━━━━━━━╇━━━━━━━━━━━━━━━━━┩\n",
       "│ conv2d_24 (<span style=\"color: #0087ff; text-decoration-color: #0087ff\">Conv2D</span>)                   │ (<span style=\"color: #00d7ff; text-decoration-color: #00d7ff\">None</span>, <span style=\"color: #00af00; text-decoration-color: #00af00\">256</span>, <span style=\"color: #00af00; text-decoration-color: #00af00\">256</span>, <span style=\"color: #00af00; text-decoration-color: #00af00\">32</span>)        │             <span style=\"color: #00af00; text-decoration-color: #00af00\">896</span> │\n",
       "├──────────────────────────────────────┼─────────────────────────────┼─────────────────┤\n",
       "│ conv2d_25 (<span style=\"color: #0087ff; text-decoration-color: #0087ff\">Conv2D</span>)                   │ (<span style=\"color: #00d7ff; text-decoration-color: #00d7ff\">None</span>, <span style=\"color: #00af00; text-decoration-color: #00af00\">254</span>, <span style=\"color: #00af00; text-decoration-color: #00af00\">254</span>, <span style=\"color: #00af00; text-decoration-color: #00af00\">32</span>)        │           <span style=\"color: #00af00; text-decoration-color: #00af00\">9,248</span> │\n",
       "├──────────────────────────────────────┼─────────────────────────────┼─────────────────┤\n",
       "│ max_pooling2d_18 (<span style=\"color: #0087ff; text-decoration-color: #0087ff\">MaxPooling2D</span>)      │ (<span style=\"color: #00d7ff; text-decoration-color: #00d7ff\">None</span>, <span style=\"color: #00af00; text-decoration-color: #00af00\">127</span>, <span style=\"color: #00af00; text-decoration-color: #00af00\">127</span>, <span style=\"color: #00af00; text-decoration-color: #00af00\">32</span>)        │               <span style=\"color: #00af00; text-decoration-color: #00af00\">0</span> │\n",
       "├──────────────────────────────────────┼─────────────────────────────┼─────────────────┤\n",
       "│ conv2d_26 (<span style=\"color: #0087ff; text-decoration-color: #0087ff\">Conv2D</span>)                   │ (<span style=\"color: #00d7ff; text-decoration-color: #00d7ff\">None</span>, <span style=\"color: #00af00; text-decoration-color: #00af00\">127</span>, <span style=\"color: #00af00; text-decoration-color: #00af00\">127</span>, <span style=\"color: #00af00; text-decoration-color: #00af00\">64</span>)        │          <span style=\"color: #00af00; text-decoration-color: #00af00\">18,496</span> │\n",
       "├──────────────────────────────────────┼─────────────────────────────┼─────────────────┤\n",
       "│ conv2d_27 (<span style=\"color: #0087ff; text-decoration-color: #0087ff\">Conv2D</span>)                   │ (<span style=\"color: #00d7ff; text-decoration-color: #00d7ff\">None</span>, <span style=\"color: #00af00; text-decoration-color: #00af00\">125</span>, <span style=\"color: #00af00; text-decoration-color: #00af00\">125</span>, <span style=\"color: #00af00; text-decoration-color: #00af00\">64</span>)        │          <span style=\"color: #00af00; text-decoration-color: #00af00\">36,928</span> │\n",
       "├──────────────────────────────────────┼─────────────────────────────┼─────────────────┤\n",
       "│ max_pooling2d_19 (<span style=\"color: #0087ff; text-decoration-color: #0087ff\">MaxPooling2D</span>)      │ (<span style=\"color: #00d7ff; text-decoration-color: #00d7ff\">None</span>, <span style=\"color: #00af00; text-decoration-color: #00af00\">62</span>, <span style=\"color: #00af00; text-decoration-color: #00af00\">62</span>, <span style=\"color: #00af00; text-decoration-color: #00af00\">64</span>)          │               <span style=\"color: #00af00; text-decoration-color: #00af00\">0</span> │\n",
       "├──────────────────────────────────────┼─────────────────────────────┼─────────────────┤\n",
       "│ conv2d_28 (<span style=\"color: #0087ff; text-decoration-color: #0087ff\">Conv2D</span>)                   │ (<span style=\"color: #00d7ff; text-decoration-color: #00d7ff\">None</span>, <span style=\"color: #00af00; text-decoration-color: #00af00\">62</span>, <span style=\"color: #00af00; text-decoration-color: #00af00\">62</span>, <span style=\"color: #00af00; text-decoration-color: #00af00\">128</span>)         │          <span style=\"color: #00af00; text-decoration-color: #00af00\">73,856</span> │\n",
       "├──────────────────────────────────────┼─────────────────────────────┼─────────────────┤\n",
       "│ conv2d_29 (<span style=\"color: #0087ff; text-decoration-color: #0087ff\">Conv2D</span>)                   │ (<span style=\"color: #00d7ff; text-decoration-color: #00d7ff\">None</span>, <span style=\"color: #00af00; text-decoration-color: #00af00\">60</span>, <span style=\"color: #00af00; text-decoration-color: #00af00\">60</span>, <span style=\"color: #00af00; text-decoration-color: #00af00\">128</span>)         │         <span style=\"color: #00af00; text-decoration-color: #00af00\">147,584</span> │\n",
       "├──────────────────────────────────────┼─────────────────────────────┼─────────────────┤\n",
       "│ max_pooling2d_20 (<span style=\"color: #0087ff; text-decoration-color: #0087ff\">MaxPooling2D</span>)      │ (<span style=\"color: #00d7ff; text-decoration-color: #00d7ff\">None</span>, <span style=\"color: #00af00; text-decoration-color: #00af00\">30</span>, <span style=\"color: #00af00; text-decoration-color: #00af00\">30</span>, <span style=\"color: #00af00; text-decoration-color: #00af00\">128</span>)         │               <span style=\"color: #00af00; text-decoration-color: #00af00\">0</span> │\n",
       "├──────────────────────────────────────┼─────────────────────────────┼─────────────────┤\n",
       "│ conv2d_30 (<span style=\"color: #0087ff; text-decoration-color: #0087ff\">Conv2D</span>)                   │ (<span style=\"color: #00d7ff; text-decoration-color: #00d7ff\">None</span>, <span style=\"color: #00af00; text-decoration-color: #00af00\">30</span>, <span style=\"color: #00af00; text-decoration-color: #00af00\">30</span>, <span style=\"color: #00af00; text-decoration-color: #00af00\">256</span>)         │         <span style=\"color: #00af00; text-decoration-color: #00af00\">295,168</span> │\n",
       "├──────────────────────────────────────┼─────────────────────────────┼─────────────────┤\n",
       "│ conv2d_31 (<span style=\"color: #0087ff; text-decoration-color: #0087ff\">Conv2D</span>)                   │ (<span style=\"color: #00d7ff; text-decoration-color: #00d7ff\">None</span>, <span style=\"color: #00af00; text-decoration-color: #00af00\">28</span>, <span style=\"color: #00af00; text-decoration-color: #00af00\">28</span>, <span style=\"color: #00af00; text-decoration-color: #00af00\">256</span>)         │         <span style=\"color: #00af00; text-decoration-color: #00af00\">590,080</span> │\n",
       "├──────────────────────────────────────┼─────────────────────────────┼─────────────────┤\n",
       "│ max_pooling2d_21 (<span style=\"color: #0087ff; text-decoration-color: #0087ff\">MaxPooling2D</span>)      │ (<span style=\"color: #00d7ff; text-decoration-color: #00d7ff\">None</span>, <span style=\"color: #00af00; text-decoration-color: #00af00\">14</span>, <span style=\"color: #00af00; text-decoration-color: #00af00\">14</span>, <span style=\"color: #00af00; text-decoration-color: #00af00\">256</span>)         │               <span style=\"color: #00af00; text-decoration-color: #00af00\">0</span> │\n",
       "├──────────────────────────────────────┼─────────────────────────────┼─────────────────┤\n",
       "│ conv2d_32 (<span style=\"color: #0087ff; text-decoration-color: #0087ff\">Conv2D</span>)                   │ (<span style=\"color: #00d7ff; text-decoration-color: #00d7ff\">None</span>, <span style=\"color: #00af00; text-decoration-color: #00af00\">14</span>, <span style=\"color: #00af00; text-decoration-color: #00af00\">14</span>, <span style=\"color: #00af00; text-decoration-color: #00af00\">512</span>)         │       <span style=\"color: #00af00; text-decoration-color: #00af00\">1,180,160</span> │\n",
       "├──────────────────────────────────────┼─────────────────────────────┼─────────────────┤\n",
       "│ conv2d_33 (<span style=\"color: #0087ff; text-decoration-color: #0087ff\">Conv2D</span>)                   │ (<span style=\"color: #00d7ff; text-decoration-color: #00d7ff\">None</span>, <span style=\"color: #00af00; text-decoration-color: #00af00\">12</span>, <span style=\"color: #00af00; text-decoration-color: #00af00\">12</span>, <span style=\"color: #00af00; text-decoration-color: #00af00\">512</span>)         │       <span style=\"color: #00af00; text-decoration-color: #00af00\">2,359,808</span> │\n",
       "├──────────────────────────────────────┼─────────────────────────────┼─────────────────┤\n",
       "│ max_pooling2d_22 (<span style=\"color: #0087ff; text-decoration-color: #0087ff\">MaxPooling2D</span>)      │ (<span style=\"color: #00d7ff; text-decoration-color: #00d7ff\">None</span>, <span style=\"color: #00af00; text-decoration-color: #00af00\">6</span>, <span style=\"color: #00af00; text-decoration-color: #00af00\">6</span>, <span style=\"color: #00af00; text-decoration-color: #00af00\">512</span>)           │               <span style=\"color: #00af00; text-decoration-color: #00af00\">0</span> │\n",
       "├──────────────────────────────────────┼─────────────────────────────┼─────────────────┤\n",
       "│ dropout_2 (<span style=\"color: #0087ff; text-decoration-color: #0087ff\">Dropout</span>)                  │ (<span style=\"color: #00d7ff; text-decoration-color: #00d7ff\">None</span>, <span style=\"color: #00af00; text-decoration-color: #00af00\">6</span>, <span style=\"color: #00af00; text-decoration-color: #00af00\">6</span>, <span style=\"color: #00af00; text-decoration-color: #00af00\">512</span>)           │               <span style=\"color: #00af00; text-decoration-color: #00af00\">0</span> │\n",
       "├──────────────────────────────────────┼─────────────────────────────┼─────────────────┤\n",
       "│ flatten_3 (<span style=\"color: #0087ff; text-decoration-color: #0087ff\">Flatten</span>)                  │ (<span style=\"color: #00d7ff; text-decoration-color: #00d7ff\">None</span>, <span style=\"color: #00af00; text-decoration-color: #00af00\">18432</span>)               │               <span style=\"color: #00af00; text-decoration-color: #00af00\">0</span> │\n",
       "├──────────────────────────────────────┼─────────────────────────────┼─────────────────┤\n",
       "│ dense_6 (<span style=\"color: #0087ff; text-decoration-color: #0087ff\">Dense</span>)                      │ (<span style=\"color: #00d7ff; text-decoration-color: #00d7ff\">None</span>, <span style=\"color: #00af00; text-decoration-color: #00af00\">1500</span>)                │      <span style=\"color: #00af00; text-decoration-color: #00af00\">27,649,500</span> │\n",
       "├──────────────────────────────────────┼─────────────────────────────┼─────────────────┤\n",
       "│ dropout_3 (<span style=\"color: #0087ff; text-decoration-color: #0087ff\">Dropout</span>)                  │ (<span style=\"color: #00d7ff; text-decoration-color: #00d7ff\">None</span>, <span style=\"color: #00af00; text-decoration-color: #00af00\">1500</span>)                │               <span style=\"color: #00af00; text-decoration-color: #00af00\">0</span> │\n",
       "├──────────────────────────────────────┼─────────────────────────────┼─────────────────┤\n",
       "│ dense_7 (<span style=\"color: #0087ff; text-decoration-color: #0087ff\">Dense</span>)                      │ (<span style=\"color: #00d7ff; text-decoration-color: #00d7ff\">None</span>, <span style=\"color: #00af00; text-decoration-color: #00af00\">6</span>)                   │           <span style=\"color: #00af00; text-decoration-color: #00af00\">9,006</span> │\n",
       "└──────────────────────────────────────┴─────────────────────────────┴─────────────────┘\n",
       "</pre>\n"
      ],
      "text/plain": [
       "┏━━━━━━━━━━━━━━━━━━━━━━━━━━━━━━━━━━━━━━┳━━━━━━━━━━━━━━━━━━━━━━━━━━━━━┳━━━━━━━━━━━━━━━━━┓\n",
       "┃\u001b[1m \u001b[0m\u001b[1mLayer (type)                        \u001b[0m\u001b[1m \u001b[0m┃\u001b[1m \u001b[0m\u001b[1mOutput Shape               \u001b[0m\u001b[1m \u001b[0m┃\u001b[1m \u001b[0m\u001b[1m        Param #\u001b[0m\u001b[1m \u001b[0m┃\n",
       "┡━━━━━━━━━━━━━━━━━━━━━━━━━━━━━━━━━━━━━━╇━━━━━━━━━━━━━━━━━━━━━━━━━━━━━╇━━━━━━━━━━━━━━━━━┩\n",
       "│ conv2d_24 (\u001b[38;5;33mConv2D\u001b[0m)                   │ (\u001b[38;5;45mNone\u001b[0m, \u001b[38;5;34m256\u001b[0m, \u001b[38;5;34m256\u001b[0m, \u001b[38;5;34m32\u001b[0m)        │             \u001b[38;5;34m896\u001b[0m │\n",
       "├──────────────────────────────────────┼─────────────────────────────┼─────────────────┤\n",
       "│ conv2d_25 (\u001b[38;5;33mConv2D\u001b[0m)                   │ (\u001b[38;5;45mNone\u001b[0m, \u001b[38;5;34m254\u001b[0m, \u001b[38;5;34m254\u001b[0m, \u001b[38;5;34m32\u001b[0m)        │           \u001b[38;5;34m9,248\u001b[0m │\n",
       "├──────────────────────────────────────┼─────────────────────────────┼─────────────────┤\n",
       "│ max_pooling2d_18 (\u001b[38;5;33mMaxPooling2D\u001b[0m)      │ (\u001b[38;5;45mNone\u001b[0m, \u001b[38;5;34m127\u001b[0m, \u001b[38;5;34m127\u001b[0m, \u001b[38;5;34m32\u001b[0m)        │               \u001b[38;5;34m0\u001b[0m │\n",
       "├──────────────────────────────────────┼─────────────────────────────┼─────────────────┤\n",
       "│ conv2d_26 (\u001b[38;5;33mConv2D\u001b[0m)                   │ (\u001b[38;5;45mNone\u001b[0m, \u001b[38;5;34m127\u001b[0m, \u001b[38;5;34m127\u001b[0m, \u001b[38;5;34m64\u001b[0m)        │          \u001b[38;5;34m18,496\u001b[0m │\n",
       "├──────────────────────────────────────┼─────────────────────────────┼─────────────────┤\n",
       "│ conv2d_27 (\u001b[38;5;33mConv2D\u001b[0m)                   │ (\u001b[38;5;45mNone\u001b[0m, \u001b[38;5;34m125\u001b[0m, \u001b[38;5;34m125\u001b[0m, \u001b[38;5;34m64\u001b[0m)        │          \u001b[38;5;34m36,928\u001b[0m │\n",
       "├──────────────────────────────────────┼─────────────────────────────┼─────────────────┤\n",
       "│ max_pooling2d_19 (\u001b[38;5;33mMaxPooling2D\u001b[0m)      │ (\u001b[38;5;45mNone\u001b[0m, \u001b[38;5;34m62\u001b[0m, \u001b[38;5;34m62\u001b[0m, \u001b[38;5;34m64\u001b[0m)          │               \u001b[38;5;34m0\u001b[0m │\n",
       "├──────────────────────────────────────┼─────────────────────────────┼─────────────────┤\n",
       "│ conv2d_28 (\u001b[38;5;33mConv2D\u001b[0m)                   │ (\u001b[38;5;45mNone\u001b[0m, \u001b[38;5;34m62\u001b[0m, \u001b[38;5;34m62\u001b[0m, \u001b[38;5;34m128\u001b[0m)         │          \u001b[38;5;34m73,856\u001b[0m │\n",
       "├──────────────────────────────────────┼─────────────────────────────┼─────────────────┤\n",
       "│ conv2d_29 (\u001b[38;5;33mConv2D\u001b[0m)                   │ (\u001b[38;5;45mNone\u001b[0m, \u001b[38;5;34m60\u001b[0m, \u001b[38;5;34m60\u001b[0m, \u001b[38;5;34m128\u001b[0m)         │         \u001b[38;5;34m147,584\u001b[0m │\n",
       "├──────────────────────────────────────┼─────────────────────────────┼─────────────────┤\n",
       "│ max_pooling2d_20 (\u001b[38;5;33mMaxPooling2D\u001b[0m)      │ (\u001b[38;5;45mNone\u001b[0m, \u001b[38;5;34m30\u001b[0m, \u001b[38;5;34m30\u001b[0m, \u001b[38;5;34m128\u001b[0m)         │               \u001b[38;5;34m0\u001b[0m │\n",
       "├──────────────────────────────────────┼─────────────────────────────┼─────────────────┤\n",
       "│ conv2d_30 (\u001b[38;5;33mConv2D\u001b[0m)                   │ (\u001b[38;5;45mNone\u001b[0m, \u001b[38;5;34m30\u001b[0m, \u001b[38;5;34m30\u001b[0m, \u001b[38;5;34m256\u001b[0m)         │         \u001b[38;5;34m295,168\u001b[0m │\n",
       "├──────────────────────────────────────┼─────────────────────────────┼─────────────────┤\n",
       "│ conv2d_31 (\u001b[38;5;33mConv2D\u001b[0m)                   │ (\u001b[38;5;45mNone\u001b[0m, \u001b[38;5;34m28\u001b[0m, \u001b[38;5;34m28\u001b[0m, \u001b[38;5;34m256\u001b[0m)         │         \u001b[38;5;34m590,080\u001b[0m │\n",
       "├──────────────────────────────────────┼─────────────────────────────┼─────────────────┤\n",
       "│ max_pooling2d_21 (\u001b[38;5;33mMaxPooling2D\u001b[0m)      │ (\u001b[38;5;45mNone\u001b[0m, \u001b[38;5;34m14\u001b[0m, \u001b[38;5;34m14\u001b[0m, \u001b[38;5;34m256\u001b[0m)         │               \u001b[38;5;34m0\u001b[0m │\n",
       "├──────────────────────────────────────┼─────────────────────────────┼─────────────────┤\n",
       "│ conv2d_32 (\u001b[38;5;33mConv2D\u001b[0m)                   │ (\u001b[38;5;45mNone\u001b[0m, \u001b[38;5;34m14\u001b[0m, \u001b[38;5;34m14\u001b[0m, \u001b[38;5;34m512\u001b[0m)         │       \u001b[38;5;34m1,180,160\u001b[0m │\n",
       "├──────────────────────────────────────┼─────────────────────────────┼─────────────────┤\n",
       "│ conv2d_33 (\u001b[38;5;33mConv2D\u001b[0m)                   │ (\u001b[38;5;45mNone\u001b[0m, \u001b[38;5;34m12\u001b[0m, \u001b[38;5;34m12\u001b[0m, \u001b[38;5;34m512\u001b[0m)         │       \u001b[38;5;34m2,359,808\u001b[0m │\n",
       "├──────────────────────────────────────┼─────────────────────────────┼─────────────────┤\n",
       "│ max_pooling2d_22 (\u001b[38;5;33mMaxPooling2D\u001b[0m)      │ (\u001b[38;5;45mNone\u001b[0m, \u001b[38;5;34m6\u001b[0m, \u001b[38;5;34m6\u001b[0m, \u001b[38;5;34m512\u001b[0m)           │               \u001b[38;5;34m0\u001b[0m │\n",
       "├──────────────────────────────────────┼─────────────────────────────┼─────────────────┤\n",
       "│ dropout_2 (\u001b[38;5;33mDropout\u001b[0m)                  │ (\u001b[38;5;45mNone\u001b[0m, \u001b[38;5;34m6\u001b[0m, \u001b[38;5;34m6\u001b[0m, \u001b[38;5;34m512\u001b[0m)           │               \u001b[38;5;34m0\u001b[0m │\n",
       "├──────────────────────────────────────┼─────────────────────────────┼─────────────────┤\n",
       "│ flatten_3 (\u001b[38;5;33mFlatten\u001b[0m)                  │ (\u001b[38;5;45mNone\u001b[0m, \u001b[38;5;34m18432\u001b[0m)               │               \u001b[38;5;34m0\u001b[0m │\n",
       "├──────────────────────────────────────┼─────────────────────────────┼─────────────────┤\n",
       "│ dense_6 (\u001b[38;5;33mDense\u001b[0m)                      │ (\u001b[38;5;45mNone\u001b[0m, \u001b[38;5;34m1500\u001b[0m)                │      \u001b[38;5;34m27,649,500\u001b[0m │\n",
       "├──────────────────────────────────────┼─────────────────────────────┼─────────────────┤\n",
       "│ dropout_3 (\u001b[38;5;33mDropout\u001b[0m)                  │ (\u001b[38;5;45mNone\u001b[0m, \u001b[38;5;34m1500\u001b[0m)                │               \u001b[38;5;34m0\u001b[0m │\n",
       "├──────────────────────────────────────┼─────────────────────────────┼─────────────────┤\n",
       "│ dense_7 (\u001b[38;5;33mDense\u001b[0m)                      │ (\u001b[38;5;45mNone\u001b[0m, \u001b[38;5;34m6\u001b[0m)                   │           \u001b[38;5;34m9,006\u001b[0m │\n",
       "└──────────────────────────────────────┴─────────────────────────────┴─────────────────┘\n"
      ]
     },
     "metadata": {},
     "output_type": "display_data"
    },
    {
     "data": {
      "text/html": [
       "<pre style=\"white-space:pre;overflow-x:auto;line-height:normal;font-family:Menlo,'DejaVu Sans Mono',consolas,'Courier New',monospace\"><span style=\"font-weight: bold\"> Total params: </span><span style=\"color: #00af00; text-decoration-color: #00af00\">32,370,730</span> (123.48 MB)\n",
       "</pre>\n"
      ],
      "text/plain": [
       "\u001b[1m Total params: \u001b[0m\u001b[38;5;34m32,370,730\u001b[0m (123.48 MB)\n"
      ]
     },
     "metadata": {},
     "output_type": "display_data"
    },
    {
     "data": {
      "text/html": [
       "<pre style=\"white-space:pre;overflow-x:auto;line-height:normal;font-family:Menlo,'DejaVu Sans Mono',consolas,'Courier New',monospace\"><span style=\"font-weight: bold\"> Trainable params: </span><span style=\"color: #00af00; text-decoration-color: #00af00\">32,370,730</span> (123.48 MB)\n",
       "</pre>\n"
      ],
      "text/plain": [
       "\u001b[1m Trainable params: \u001b[0m\u001b[38;5;34m32,370,730\u001b[0m (123.48 MB)\n"
      ]
     },
     "metadata": {},
     "output_type": "display_data"
    },
    {
     "data": {
      "text/html": [
       "<pre style=\"white-space:pre;overflow-x:auto;line-height:normal;font-family:Menlo,'DejaVu Sans Mono',consolas,'Courier New',monospace\"><span style=\"font-weight: bold\"> Non-trainable params: </span><span style=\"color: #00af00; text-decoration-color: #00af00\">0</span> (0.00 B)\n",
       "</pre>\n"
      ],
      "text/plain": [
       "\u001b[1m Non-trainable params: \u001b[0m\u001b[38;5;34m0\u001b[0m (0.00 B)\n"
      ]
     },
     "metadata": {},
     "output_type": "display_data"
    }
   ],
   "source": [
    "model.summary()"
   ]
  },
  {
   "cell_type": "code",
   "execution_count": 70,
   "id": "ce97868f-1daf-43ab-a1d5-edb0753d08ea",
   "metadata": {},
   "outputs": [],
   "source": [
    "model.compile(optimizer='adam', loss='categorical_crossentropy', metrics=['accuracy'])"
   ]
  },
  {
   "cell_type": "code",
   "execution_count": 73,
   "id": "9c89e9da-394f-4a8a-819b-b5557a5057d0",
   "metadata": {},
   "outputs": [],
   "source": [
    "training_set = training_set.apply(tf.data.experimental.ignore_errors())\n",
    "validation_set = validation_set.apply(tf.data.experimental.ignore_errors())\n"
   ]
  },
  {
   "cell_type": "code",
   "execution_count": 75,
   "id": "4bcfc4a8-f55e-4b42-ac71-2b4ac939a056",
   "metadata": {},
   "outputs": [],
   "source": [
    "import tensorflow as tf\n",
    "from tensorflow.keras import backend as K\n",
    "\n",
    "K.clear_session()\n"
   ]
  },
  {
   "cell_type": "code",
   "execution_count": 76,
   "id": "85ed2989-8553-49b1-85d4-a598aa63743a",
   "metadata": {},
   "outputs": [
    {
     "name": "stdout",
     "output_type": "stream",
     "text": [
      "Epoch 1/20\n",
      "     84/Unknown \u001b[1m238s\u001b[0m 3s/step - accuracy: 0.2712 - loss: 4.0599"
     ]
    },
    {
     "name": "stderr",
     "output_type": "stream",
     "text": [
      "D:\\MinicondaFolda\\envs\\zdata\\Lib\\site-packages\\keras\\src\\trainers\\epoch_iterator.py:151: UserWarning: Your input ran out of data; interrupting training. Make sure that your dataset or generator can generate at least `steps_per_epoch * epochs` batches. You may need to use the `.repeat()` function when building your dataset.\n",
      "  self._interrupted_warning()\n"
     ]
    },
    {
     "name": "stdout",
     "output_type": "stream",
     "text": [
      "\u001b[1m84/84\u001b[0m \u001b[32m━━━━━━━━━━━━━━━━━━━━\u001b[0m\u001b[37m\u001b[0m \u001b[1m249s\u001b[0m 3s/step - accuracy: 0.2729 - loss: 4.0351 - val_accuracy: 0.7180 - val_loss: 0.7443\n",
      "Epoch 2/20\n",
      "\u001b[1m84/84\u001b[0m \u001b[32m━━━━━━━━━━━━━━━━━━━━\u001b[0m\u001b[37m\u001b[0m \u001b[1m207s\u001b[0m 2s/step - accuracy: 0.7242 - loss: 0.7377 - val_accuracy: 0.9086 - val_loss: 0.2541\n",
      "Epoch 3/20\n",
      "\u001b[1m84/84\u001b[0m \u001b[32m━━━━━━━━━━━━━━━━━━━━\u001b[0m\u001b[37m\u001b[0m \u001b[1m207s\u001b[0m 2s/step - accuracy: 0.9006 - loss: 0.2990 - val_accuracy: 0.9817 - val_loss: 0.0681\n",
      "Epoch 4/20\n",
      "\u001b[1m84/84\u001b[0m \u001b[32m━━━━━━━━━━━━━━━━━━━━\u001b[0m\u001b[37m\u001b[0m \u001b[1m213s\u001b[0m 3s/step - accuracy: 0.8905 - loss: 0.3645 - val_accuracy: 0.9648 - val_loss: 0.1196\n",
      "Epoch 5/20\n",
      "\u001b[1m84/84\u001b[0m \u001b[32m━━━━━━━━━━━━━━━━━━━━\u001b[0m\u001b[37m\u001b[0m \u001b[1m213s\u001b[0m 3s/step - accuracy: 0.9669 - loss: 0.1067 - val_accuracy: 0.9817 - val_loss: 0.0636\n",
      "Epoch 6/20\n",
      "\u001b[1m84/84\u001b[0m \u001b[32m━━━━━━━━━━━━━━━━━━━━\u001b[0m\u001b[37m\u001b[0m \u001b[1m207s\u001b[0m 2s/step - accuracy: 0.9270 - loss: 0.2427 - val_accuracy: 0.9674 - val_loss: 0.1925\n",
      "Epoch 7/20\n",
      "\u001b[1m84/84\u001b[0m \u001b[32m━━━━━━━━━━━━━━━━━━━━\u001b[0m\u001b[37m\u001b[0m \u001b[1m206s\u001b[0m 2s/step - accuracy: 0.9504 - loss: 0.1669 - val_accuracy: 0.9791 - val_loss: 0.0627\n",
      "Epoch 8/20\n",
      "\u001b[1m84/84\u001b[0m \u001b[32m━━━━━━━━━━━━━━━━━━━━\u001b[0m\u001b[37m\u001b[0m \u001b[1m203s\u001b[0m 2s/step - accuracy: 0.9841 - loss: 0.0584 - val_accuracy: 0.9883 - val_loss: 0.0576\n",
      "Epoch 9/20\n",
      "\u001b[1m84/84\u001b[0m \u001b[32m━━━━━━━━━━━━━━━━━━━━\u001b[0m\u001b[37m\u001b[0m \u001b[1m11450s\u001b[0m 138s/step - accuracy: 0.9868 - loss: 0.0476 - val_accuracy: 0.9269 - val_loss: 1.2842\n",
      "Epoch 10/20\n",
      "\u001b[1m84/84\u001b[0m \u001b[32m━━━━━━━━━━━━━━━━━━━━\u001b[0m\u001b[37m\u001b[0m \u001b[1m223s\u001b[0m 3s/step - accuracy: 0.8305 - loss: 0.8064 - val_accuracy: 0.9739 - val_loss: 0.0920\n",
      "Epoch 11/20\n",
      "\u001b[1m84/84\u001b[0m \u001b[32m━━━━━━━━━━━━━━━━━━━━\u001b[0m\u001b[37m\u001b[0m \u001b[1m222s\u001b[0m 3s/step - accuracy: 0.9751 - loss: 0.0752 - val_accuracy: 0.9922 - val_loss: 0.0372\n",
      "Epoch 12/20\n",
      "\u001b[1m84/84\u001b[0m \u001b[32m━━━━━━━━━━━━━━━━━━━━\u001b[0m\u001b[37m\u001b[0m \u001b[1m230s\u001b[0m 3s/step - accuracy: 0.9834 - loss: 0.0544 - val_accuracy: 0.9700 - val_loss: 0.0967\n",
      "Epoch 13/20\n",
      "\u001b[1m84/84\u001b[0m \u001b[32m━━━━━━━━━━━━━━━━━━━━\u001b[0m\u001b[37m\u001b[0m \u001b[1m234s\u001b[0m 3s/step - accuracy: 0.9828 - loss: 0.0666 - val_accuracy: 0.9909 - val_loss: 0.0489\n",
      "Epoch 14/20\n",
      "\u001b[1m84/84\u001b[0m \u001b[32m━━━━━━━━━━━━━━━━━━━━\u001b[0m\u001b[37m\u001b[0m \u001b[1m218s\u001b[0m 3s/step - accuracy: 0.9982 - loss: 0.0135 - val_accuracy: 0.9896 - val_loss: 0.0298\n",
      "Epoch 15/20\n",
      "\u001b[1m84/84\u001b[0m \u001b[32m━━━━━━━━━━━━━━━━━━━━\u001b[0m\u001b[37m\u001b[0m \u001b[1m217s\u001b[0m 3s/step - accuracy: 0.9930 - loss: 0.0255 - val_accuracy: 0.9843 - val_loss: 0.1005\n",
      "Epoch 16/20\n",
      "\u001b[1m84/84\u001b[0m \u001b[32m━━━━━━━━━━━━━━━━━━━━\u001b[0m\u001b[37m\u001b[0m \u001b[1m217s\u001b[0m 3s/step - accuracy: 0.9677 - loss: 0.0888 - val_accuracy: 0.9922 - val_loss: 0.0237\n",
      "Epoch 17/20\n",
      "\u001b[1m84/84\u001b[0m \u001b[32m━━━━━━━━━━━━━━━━━━━━\u001b[0m\u001b[37m\u001b[0m \u001b[1m220s\u001b[0m 3s/step - accuracy: 0.9992 - loss: 0.0088 - val_accuracy: 0.9948 - val_loss: 0.0230\n",
      "Epoch 18/20\n",
      "\u001b[1m84/84\u001b[0m \u001b[32m━━━━━━━━━━━━━━━━━━━━\u001b[0m\u001b[37m\u001b[0m \u001b[1m218s\u001b[0m 3s/step - accuracy: 0.9960 - loss: 0.0124 - val_accuracy: 0.9843 - val_loss: 0.0860\n",
      "Epoch 19/20\n",
      "\u001b[1m84/84\u001b[0m \u001b[32m━━━━━━━━━━━━━━━━━━━━\u001b[0m\u001b[37m\u001b[0m \u001b[1m219s\u001b[0m 3s/step - accuracy: 0.9669 - loss: 0.1275 - val_accuracy: 0.9869 - val_loss: 0.0459\n",
      "Epoch 20/20\n",
      "\u001b[1m84/84\u001b[0m \u001b[32m━━━━━━━━━━━━━━━━━━━━\u001b[0m\u001b[37m\u001b[0m \u001b[1m217s\u001b[0m 3s/step - accuracy: 0.9914 - loss: 0.0301 - val_accuracy: 0.9869 - val_loss: 0.0333\n"
     ]
    }
   ],
   "source": [
    "history = model.fit(\n",
    "    training_set,\n",
    "    validation_data=validation_set,\n",
    "    epochs=20\n",
    ")\n"
   ]
  },
  {
   "cell_type": "code",
   "execution_count": 77,
   "id": "fe845c55-b783-4e49-9499-ae4a21f3f5fa",
   "metadata": {},
   "outputs": [
    {
     "name": "stdout",
     "output_type": "stream",
     "text": [
      "\u001b[1m84/84\u001b[0m \u001b[32m━━━━━━━━━━━━━━━━━━━━\u001b[0m\u001b[37m\u001b[0m \u001b[1m40s\u001b[0m 475ms/step - accuracy: 0.9962 - loss: 0.0107\n"
     ]
    }
   ],
   "source": [
    "\n",
    "#Model Evaluation on Training set\n",
    "train_loss,train_acc = model.evaluate(training_set)"
   ]
  },
  {
   "cell_type": "code",
   "execution_count": 78,
   "id": "24410d44-2ada-42b8-8338-82d2a4110e16",
   "metadata": {},
   "outputs": [
    {
     "name": "stdout",
     "output_type": "stream",
     "text": [
      "0.011453250423073769 0.9959016442298889\n"
     ]
    }
   ],
   "source": [
    "print(train_loss,train_acc)"
   ]
  },
  {
   "cell_type": "code",
   "execution_count": 79,
   "id": "22dd04d3-ffa0-44d7-9197-34782b859dda",
   "metadata": {},
   "outputs": [
    {
     "name": "stdout",
     "output_type": "stream",
     "text": [
      "\u001b[1m24/24\u001b[0m \u001b[32m━━━━━━━━━━━━━━━━━━━━\u001b[0m\u001b[37m\u001b[0m \u001b[1m12s\u001b[0m 483ms/step - accuracy: 0.9909 - loss: 0.0240\n"
     ]
    }
   ],
   "source": [
    "#Model on Validation set\n",
    "val_loss,val_acc = model.evaluate(validation_set)"
   ]
  },
  {
   "cell_type": "code",
   "execution_count": 80,
   "id": "7809a232-c254-4e5b-bc25-fd1f65dc464b",
   "metadata": {},
   "outputs": [
    {
     "name": "stdout",
     "output_type": "stream",
     "text": [
      "0.033265408128499985 0.9869451522827148\n"
     ]
    }
   ],
   "source": [
    "print(val_loss,val_acc)"
   ]
  },
  {
   "cell_type": "code",
   "execution_count": 81,
   "id": "7d62c0f4-47bb-437c-b6a4-30b03c014032",
   "metadata": {},
   "outputs": [],
   "source": [
    "model.save(\"trained_model.keras\") ## more small MB will be consume"
   ]
  },
  {
   "cell_type": "code",
   "execution_count": 87,
   "id": "30f34fef-e0eb-4742-9b40-fe9fa06b86fd",
   "metadata": {},
   "outputs": [
    {
     "name": "stderr",
     "output_type": "stream",
     "text": [
      "WARNING:absl:You are saving your model as an HDF5 file via `model.save()` or `keras.saving.save_model(model)`. This file format is considered legacy. We recommend using instead the native Keras format, e.g. `model.save('my_model.keras')` or `keras.saving.save_model(model, 'my_model.keras')`. \n"
     ]
    }
   ],
   "source": [
    "model.save(\"trained_model.h5\") ## big MB will be consume"
   ]
  },
  {
   "cell_type": "code",
   "execution_count": 89,
   "id": "8423a4dd-ddd0-43cb-b7d5-acb860937a67",
   "metadata": {},
   "outputs": [
    {
     "data": {
      "text/plain": [
       "{'accuracy': [0.41579732298851013,\n",
       "  0.7753353118896484,\n",
       "  0.9269746541976929,\n",
       "  0.9232488870620728,\n",
       "  0.9728018045425415,\n",
       "  0.943368136882782,\n",
       "  0.9642325043678284,\n",
       "  0.9839791059494019,\n",
       "  0.9877049326896667,\n",
       "  0.8930700421333313,\n",
       "  0.9783904552459717,\n",
       "  0.9839791059494019,\n",
       "  0.9858420491218567,\n",
       "  0.997391939163208,\n",
       "  0.9757823944091797,\n",
       "  0.9821162223815918,\n",
       "  0.999627411365509,\n",
       "  0.9903129935264587,\n",
       "  0.9739195108413696,\n",
       "  0.992548406124115],\n",
       " 'loss': [1.9527922868728638,\n",
       "  0.6291307210922241,\n",
       "  0.22490961849689484,\n",
       "  0.24345315992832184,\n",
       "  0.095970518887043,\n",
       "  0.19206614792346954,\n",
       "  0.11803699284791946,\n",
       "  0.06291303783655167,\n",
       "  0.047029659152030945,\n",
       "  0.37906113266944885,\n",
       "  0.06260275840759277,\n",
       "  0.05683112144470215,\n",
       "  0.049816638231277466,\n",
       "  0.01584433577954769,\n",
       "  0.08629225939512253,\n",
       "  0.05441752076148987,\n",
       "  0.0038657099939882755,\n",
       "  0.028563117608428,\n",
       "  0.09229687601327896,\n",
       "  0.028068380430340767],\n",
       " 'val_accuracy': [0.7180156707763672,\n",
       "  0.9086161851882935,\n",
       "  0.9817232489585876,\n",
       "  0.9647519588470459,\n",
       "  0.9817232489585876,\n",
       "  0.9673629403114319,\n",
       "  0.9791122674942017,\n",
       "  0.9882506728172302,\n",
       "  0.9268929362297058,\n",
       "  0.9738903641700745,\n",
       "  0.9921671152114868,\n",
       "  0.9699738621711731,\n",
       "  0.9908615946769714,\n",
       "  0.9895561337471008,\n",
       "  0.9843342304229736,\n",
       "  0.9921671152114868,\n",
       "  0.9947780966758728,\n",
       "  0.9843342304229736,\n",
       "  0.9869451522827148,\n",
       "  0.9869451522827148],\n",
       " 'val_loss': [0.744338870048523,\n",
       "  0.25409194827079773,\n",
       "  0.06813633441925049,\n",
       "  0.11963410675525665,\n",
       "  0.06358885020017624,\n",
       "  0.1924629509449005,\n",
       "  0.06273307651281357,\n",
       "  0.057629819959402084,\n",
       "  1.2842116355895996,\n",
       "  0.09204559773206711,\n",
       "  0.03724381700158119,\n",
       "  0.09671831130981445,\n",
       "  0.04889119789004326,\n",
       "  0.02979644015431404,\n",
       "  0.10054551810026169,\n",
       "  0.023650430142879486,\n",
       "  0.022955236956477165,\n",
       "  0.08598467707633972,\n",
       "  0.04586774483323097,\n",
       "  0.033265408128499985]}"
      ]
     },
     "execution_count": 89,
     "metadata": {},
     "output_type": "execute_result"
    }
   ],
   "source": [
    "history.history"
   ]
  },
  {
   "cell_type": "code",
   "execution_count": 90,
   "id": "911efdfc-0d83-404e-ac31-818f61718992",
   "metadata": {},
   "outputs": [],
   "source": [
    "##Record Model History in jason format"
   ]
  },
  {
   "cell_type": "code",
   "execution_count": 91,
   "id": "944d8581-a84c-4057-b289-9a7cc2471124",
   "metadata": {},
   "outputs": [],
   "source": [
    "import json\n",
    "with open(\"training_hist.json\",\"w\") as f:\n",
    "    json.dump(history.history,f)"
   ]
  },
  {
   "cell_type": "code",
   "execution_count": 92,
   "id": "d168db84-bea5-4a06-9b41-58a2a0fdb6bf",
   "metadata": {},
   "outputs": [
    {
     "data": {
      "text/plain": [
       "[0.7180156707763672,\n",
       " 0.9086161851882935,\n",
       " 0.9817232489585876,\n",
       " 0.9647519588470459,\n",
       " 0.9817232489585876,\n",
       " 0.9673629403114319,\n",
       " 0.9791122674942017,\n",
       " 0.9882506728172302,\n",
       " 0.9268929362297058,\n",
       " 0.9738903641700745,\n",
       " 0.9921671152114868,\n",
       " 0.9699738621711731,\n",
       " 0.9908615946769714,\n",
       " 0.9895561337471008,\n",
       " 0.9843342304229736,\n",
       " 0.9921671152114868,\n",
       " 0.9947780966758728,\n",
       " 0.9843342304229736,\n",
       " 0.9869451522827148,\n",
       " 0.9869451522827148]"
      ]
     },
     "execution_count": 92,
     "metadata": {},
     "output_type": "execute_result"
    }
   ],
   "source": [
    "history.history['val_accuracy']"
   ]
  },
  {
   "cell_type": "code",
   "execution_count": 93,
   "id": "2bc3c8bb-76b3-4cf8-aa4f-a0bd1510e889",
   "metadata": {},
   "outputs": [],
   "source": [
    "### Accuracy Visualization"
   ]
  },
  {
   "cell_type": "code",
   "execution_count": 99,
   "id": "9d526498-0c6b-4552-8f04-94c691a037ff",
   "metadata": {},
   "outputs": [
    {
     "data": {
      "image/png": "[encoded data removed]",
      "text/plain": [
       "<Figure size 640x480 with 1 Axes>"
      ]
     },
     "metadata": {},
     "output_type": "display_data"
    }
   ],
   "source": [
    "import matplotlib.pyplot as plt\n",
    "\n",
    "# Dynamically adjust epochs list based on history length\n",
    "epochs = list(range(1, len(history.history['accuracy']) + 1))\n",
    "\n",
    "plt.plot(epochs, history.history['accuracy'], color='red', marker='o', linestyle='-', label='Training Accuracy')\n",
    "plt.plot(epochs,history.history['val_accuracy'],color='blue',marker='o', linestyle='-',label='Validation Accuracy')\n",
    "plt.xlabel('Epochs')\n",
    "plt.ylabel('Accuracy')\n",
    "plt.title('Training Accuracy Over Epochs')\n",
    "plt.legend()\n",
    "plt.grid(True)\n",
    "plt.show()\n"
   ]
  },
  {
   "cell_type": "code",
   "execution_count": 104,
   "id": "ec588ca6-80d5-4979-82bc-41087401d7d9",
   "metadata": {},
   "outputs": [],
   "source": [
    "### some Other metrics to evaluate the model"
   ]
  },
  {
   "cell_type": "code",
   "execution_count": 114,
   "id": "72997735-7de9-4733-bdb7-90c2d0206f85",
   "metadata": {},
   "outputs": [
    {
     "name": "stdout",
     "output_type": "stream",
     "text": [
      "Found 766 files belonging to 6 classes.\n",
      "['CuttingCaterpillar', 'CuttingWeevil', 'DieBack', 'Healthy', 'WhiteFly', 'Yellow']\n"
     ]
    }
   ],
   "source": [
    "train_set = tf.keras.preprocessing.image_dataset_from_directory(\"soursopdatasets/val\")\n",
    "class_names = train_set.class_names  # Get class names BEFORE transformations\n",
    "\n",
    "print(class_names)\n"
   ]
  },
  {
   "cell_type": "code",
   "execution_count": 117,
   "id": "6796f013-bd0a-4b1e-adf9-779af6a412fa",
   "metadata": {},
   "outputs": [
    {
     "name": "stdout",
     "output_type": "stream",
     "text": [
      "\u001b[1m24/24\u001b[0m \u001b[32m━━━━━━━━━━━━━━━━━━━━\u001b[0m\u001b[37m\u001b[0m \u001b[1m13s\u001b[0m 509ms/step\n"
     ]
    },
    {
     "data": {
      "text/plain": [
       "(array([[2.2386330e-06, 8.1295126e-10, 2.2743994e-07, 2.0159198e-12,\n",
       "         6.6119324e-14, 9.9999750e-01],\n",
       "        [1.3610166e-14, 1.7623231e-12, 1.1811909e-15, 2.7939541e-16,\n",
       "         1.0000000e+00, 2.5540109e-13],\n",
       "        [1.9836495e-08, 3.9532652e-12, 1.7267829e-13, 1.0000000e+00,\n",
       "         1.6920480e-16, 1.1967710e-10],\n",
       "        ...,\n",
       "        [9.1492930e-06, 8.9548183e-07, 6.9731393e-19, 9.9998987e-01,\n",
       "         9.6899858e-15, 2.0832005e-11],\n",
       "        [1.9445898e-07, 1.7504778e-08, 9.9966657e-01, 6.0834219e-07,\n",
       "         3.2271602e-04, 9.8524106e-06],\n",
       "        [2.1688067e-05, 1.7706550e-11, 5.8556705e-17, 9.9997830e-01,\n",
       "         9.1794392e-15, 5.4944569e-09]], dtype=float32),\n",
       " (766, 6))"
      ]
     },
     "execution_count": 117,
     "metadata": {},
     "output_type": "execute_result"
    }
   ],
   "source": [
    "y_pred = model.predict(train_set)\n",
    "y_pred,y_pred.shape"
   ]
  },
  {
   "cell_type": "code",
   "execution_count": 120,
   "id": "a5ab0b75-c694-40f0-8c4a-cc6bb9bb912f",
   "metadata": {},
   "outputs": [
    {
     "name": "stdout",
     "output_type": "stream",
     "text": [
      "Found 766 files belonging to 6 classes.\n"
     ]
    }
   ],
   "source": [
    "test_set = tf.keras.utils.image_dataset_from_directory(\n",
    "    'soursopdatasets/val',\n",
    "    labels=\"inferred\",\n",
    "    label_mode=\"categorical\",\n",
    "    class_names=None,\n",
    "    color_mode=\"rgb\",\n",
    "    batch_size=BATCH_SIZE,\n",
    "    image_size=(IMAGE_SIZE,IMAGE_SIZE),\n",
    "    shuffle=False,\n",
    "    seed=None,\n",
    "    validation_split=None,\n",
    "    subset=None,\n",
    "    interpolation=\"bilinear\",\n",
    "    follow_links=False,\n",
    "    crop_to_aspect_ratio=False,\n",
    ")"
   ]
  },
  {
   "cell_type": "code",
   "execution_count": 121,
   "id": "13b5f308-1ba5-4d24-aed7-17d717903ac7",
   "metadata": {},
   "outputs": [
    {
     "name": "stdout",
     "output_type": "stream",
     "text": [
      "\u001b[1m24/24\u001b[0m \u001b[32m━━━━━━━━━━━━━━━━━━━━\u001b[0m\u001b[37m\u001b[0m \u001b[1m12s\u001b[0m 489ms/step\n"
     ]
    },
    {
     "data": {
      "text/plain": [
       "(array([[9.99999523e-01, 3.79980505e-14, 1.22483063e-18, 4.34975391e-07,\n",
       "         8.22419444e-18, 1.15500449e-10],\n",
       "        [9.99999881e-01, 4.66766869e-17, 3.28275932e-19, 1.08259513e-07,\n",
       "         1.37949432e-21, 8.44966864e-14],\n",
       "        [9.99999523e-01, 3.31697357e-14, 7.30855430e-19, 5.31901094e-07,\n",
       "         8.50395230e-19, 4.80296081e-11],\n",
       "        ...,\n",
       "        [3.67434416e-03, 1.07558026e-05, 2.32392267e-07, 1.13310804e-07,\n",
       "         9.43266265e-09, 9.96314466e-01],\n",
       "        [6.97982784e-07, 2.00927408e-09, 1.89392751e-10, 6.49630360e-13,\n",
       "         6.94501694e-14, 9.99999285e-01],\n",
       "        [7.60910979e-08, 5.67470071e-10, 8.66179836e-11, 2.37708345e-13,\n",
       "         4.54976985e-13, 9.99999881e-01]], dtype=float32),\n",
       " (766, 6))"
      ]
     },
     "execution_count": 121,
     "metadata": {},
     "output_type": "execute_result"
    }
   ],
   "source": [
    "y_pred = model.predict(test_set)\n",
    "y_pred,y_pred.shape"
   ]
  },
  {
   "cell_type": "code",
   "execution_count": 122,
   "id": "d274ac6d-8347-40ea-a57a-1e75a5fb0bc2",
   "metadata": {},
   "outputs": [],
   "source": [
    "predicted_categories = tf.argmax(y_pred,axis=1)"
   ]
  },
  {
   "cell_type": "code",
   "execution_count": 123,
   "id": "ccd489f0-6f80-4d43-b453-b6606bec2b95",
   "metadata": {},
   "outputs": [
    {
     "data": {
      "text/plain": [
       "<tf.Tensor: shape=(766,), dtype=int64, numpy=\n",
       "array([0, 0, 0, 0, 0, 0, 0, 0, 0, 0, 0, 0, 0, 0, 0, 0, 0, 0, 0, 0, 0, 0,\n",
       "       0, 0, 0, 0, 0, 0, 0, 0, 0, 0, 0, 0, 0, 0, 0, 0, 0, 0, 0, 0, 0, 0,\n",
       "       0, 0, 0, 0, 0, 0, 0, 0, 0, 0, 0, 0, 0, 3, 0, 0, 0, 0, 0, 0, 5, 0,\n",
       "       0, 0, 0, 0, 0, 0, 0, 0, 0, 0, 0, 0, 0, 0, 0, 0, 0, 0, 0, 0, 0, 0,\n",
       "       0, 0, 0, 0, 0, 0, 0, 3, 3, 0, 0, 0, 0, 0, 0, 0, 0, 0, 0, 0, 0, 0,\n",
       "       0, 0, 0, 0, 0, 0, 0, 0, 0, 0, 0, 0, 0, 0, 0, 0, 1, 1, 1, 1, 1, 1,\n",
       "       1, 1, 1, 1, 1, 1, 1, 1, 1, 1, 1, 1, 1, 1, 1, 1, 1, 1, 1, 1, 1, 1,\n",
       "       1, 1, 1, 1, 1, 1, 1, 1, 1, 1, 1, 1, 1, 1, 1, 1, 1, 1, 1, 1, 1, 1,\n",
       "       1, 1, 1, 1, 1, 1, 1, 1, 1, 1, 1, 1, 1, 1, 1, 1, 1, 1, 1, 1, 1, 1,\n",
       "       1, 1, 1, 1, 1, 1, 1, 1, 1, 1, 1, 1, 1, 1, 1, 1, 1, 1, 1, 1, 1, 1,\n",
       "       1, 1, 1, 1, 1, 1, 1, 1, 1, 1, 1, 1, 1, 1, 1, 1, 1, 1, 1, 1, 1, 1,\n",
       "       1, 1, 1, 1, 1, 1, 1, 1, 1, 1, 1, 1, 2, 2, 2, 2, 2, 2, 2, 2, 2, 2,\n",
       "       2, 2, 2, 2, 2, 2, 2, 2, 2, 2, 2, 2, 2, 2, 2, 2, 2, 2, 2, 2, 2, 2,\n",
       "       2, 2, 2, 2, 2, 2, 2, 2, 2, 2, 2, 2, 2, 2, 2, 2, 2, 2, 2, 2, 2, 2,\n",
       "       2, 2, 2, 2, 2, 2, 2, 2, 2, 2, 2, 2, 2, 2, 2, 2, 2, 2, 4, 2, 2, 2,\n",
       "       2, 2, 2, 2, 2, 2, 2, 2, 2, 2, 2, 2, 2, 2, 2, 2, 2, 2, 2, 2, 2, 2,\n",
       "       2, 2, 2, 2, 2, 2, 2, 2, 2, 2, 2, 2, 2, 2, 4, 2, 2, 2, 2, 2, 2, 2,\n",
       "       2, 2, 2, 2, 2, 2, 2, 2, 2, 2, 3, 3, 3, 3, 3, 3, 3, 3, 3, 3, 3, 3,\n",
       "       3, 3, 3, 3, 3, 3, 3, 3, 3, 3, 3, 3, 3, 3, 3, 3, 3, 3, 3, 3, 3, 3,\n",
       "       3, 0, 3, 3, 3, 3, 3, 3, 3, 3, 3, 3, 3, 3, 3, 3, 3, 3, 3, 3, 3, 3,\n",
       "       3, 3, 3, 3, 3, 3, 3, 0, 3, 3, 3, 3, 3, 3, 4, 3, 3, 3, 3, 3, 3, 3,\n",
       "       3, 3, 3, 3, 3, 3, 3, 3, 3, 3, 3, 3, 3, 3, 3, 3, 3, 3, 3, 3, 3, 3,\n",
       "       3, 3, 3, 3, 3, 3, 3, 3, 3, 3, 3, 3, 3, 3, 3, 3, 3, 3, 3, 3, 3, 3,\n",
       "       3, 0, 3, 3, 3, 3, 3, 3, 3, 4, 4, 4, 4, 4, 4, 4, 4, 4, 4, 4, 4, 4,\n",
       "       4, 4, 4, 4, 4, 4, 4, 4, 4, 4, 4, 4, 4, 4, 4, 4, 4, 4, 4, 4, 4, 4,\n",
       "       4, 4, 4, 4, 4, 4, 4, 4, 4, 4, 4, 4, 4, 4, 4, 4, 4, 4, 4, 4, 4, 4,\n",
       "       4, 4, 4, 4, 4, 4, 4, 4, 4, 4, 4, 4, 4, 4, 4, 4, 4, 4, 4, 4, 4, 4,\n",
       "       4, 4, 4, 4, 4, 4, 4, 4, 4, 4, 4, 4, 4, 4, 4, 4, 4, 4, 4, 4, 4, 4,\n",
       "       4, 4, 4, 4, 4, 4, 4, 4, 4, 4, 4, 4, 4, 4, 4, 4, 4, 4, 4, 4, 4, 4,\n",
       "       4, 4, 4, 4, 5, 5, 5, 5, 5, 5, 5, 5, 5, 5, 5, 5, 5, 5, 5, 5, 5, 5,\n",
       "       5, 5, 5, 5, 5, 5, 5, 5, 5, 5, 5, 5, 5, 5, 5, 5, 5, 5, 5, 5, 5, 5,\n",
       "       5, 5, 5, 5, 5, 5, 5, 5, 5, 5, 5, 5, 5, 5, 5, 5, 5, 5, 5, 5, 5, 5,\n",
       "       5, 5, 5, 5, 5, 5, 5, 5, 5, 5, 5, 5, 5, 5, 5, 5, 5, 5, 5, 5, 5, 5,\n",
       "       5, 5, 5, 5, 5, 5, 5, 5, 5, 5, 5, 5, 5, 5, 5, 5, 5, 5, 5, 5, 5, 5,\n",
       "       5, 5, 5, 5, 5, 5, 5, 5, 5, 5, 5, 5, 5, 5, 5, 5, 5, 5], dtype=int64)>"
      ]
     },
     "execution_count": 123,
     "metadata": {},
     "output_type": "execute_result"
    }
   ],
   "source": [
    "predicted_categories"
   ]
  },
  {
   "cell_type": "code",
   "execution_count": 124,
   "id": "d8764f20-79b2-4bd2-b48e-d8ae6f1dfbc8",
   "metadata": {},
   "outputs": [
    {
     "data": {
      "text/plain": [
       "<tf.Tensor: shape=(766, 6), dtype=float32, numpy=\n",
       "array([[1., 0., 0., 0., 0., 0.],\n",
       "       [1., 0., 0., 0., 0., 0.],\n",
       "       [1., 0., 0., 0., 0., 0.],\n",
       "       ...,\n",
       "       [0., 0., 0., 0., 0., 1.],\n",
       "       [0., 0., 0., 0., 0., 1.],\n",
       "       [0., 0., 0., 0., 0., 1.]], dtype=float32)>"
      ]
     },
     "execution_count": 124,
     "metadata": {},
     "output_type": "execute_result"
    }
   ],
   "source": [
    "true_categories = tf.concat([y for x,y in test_set],axis=0)\n",
    "true_categories"
   ]
  },
  {
   "cell_type": "code",
   "execution_count": 125,
   "id": "119aa2af-94ab-4c99-84f7-eb87af09c00e",
   "metadata": {},
   "outputs": [
    {
     "data": {
      "text/plain": [
       "<tf.Tensor: shape=(766,), dtype=int64, numpy=\n",
       "array([0, 0, 0, 0, 0, 0, 0, 0, 0, 0, 0, 0, 0, 0, 0, 0, 0, 0, 0, 0, 0, 0,\n",
       "       0, 0, 0, 0, 0, 0, 0, 0, 0, 0, 0, 0, 0, 0, 0, 0, 0, 0, 0, 0, 0, 0,\n",
       "       0, 0, 0, 0, 0, 0, 0, 0, 0, 0, 0, 0, 0, 0, 0, 0, 0, 0, 0, 0, 0, 0,\n",
       "       0, 0, 0, 0, 0, 0, 0, 0, 0, 0, 0, 0, 0, 0, 0, 0, 0, 0, 0, 0, 0, 0,\n",
       "       0, 0, 0, 0, 0, 0, 0, 0, 0, 0, 0, 0, 0, 0, 0, 0, 0, 0, 0, 0, 0, 0,\n",
       "       0, 0, 0, 0, 0, 0, 0, 0, 0, 0, 0, 0, 0, 0, 0, 0, 1, 1, 1, 1, 1, 1,\n",
       "       1, 1, 1, 1, 1, 1, 1, 1, 1, 1, 1, 1, 1, 1, 1, 1, 1, 1, 1, 1, 1, 1,\n",
       "       1, 1, 1, 1, 1, 1, 1, 1, 1, 1, 1, 1, 1, 1, 1, 1, 1, 1, 1, 1, 1, 1,\n",
       "       1, 1, 1, 1, 1, 1, 1, 1, 1, 1, 1, 1, 1, 1, 1, 1, 1, 1, 1, 1, 1, 1,\n",
       "       1, 1, 1, 1, 1, 1, 1, 1, 1, 1, 1, 1, 1, 1, 1, 1, 1, 1, 1, 1, 1, 1,\n",
       "       1, 1, 1, 1, 1, 1, 1, 1, 1, 1, 1, 1, 1, 1, 1, 1, 1, 1, 1, 1, 1, 1,\n",
       "       1, 1, 1, 1, 1, 1, 1, 1, 1, 1, 1, 1, 2, 2, 2, 2, 2, 2, 2, 2, 2, 2,\n",
       "       2, 2, 2, 2, 2, 2, 2, 2, 2, 2, 2, 2, 2, 2, 2, 2, 2, 2, 2, 2, 2, 2,\n",
       "       2, 2, 2, 2, 2, 2, 2, 2, 2, 2, 2, 2, 2, 2, 2, 2, 2, 2, 2, 2, 2, 2,\n",
       "       2, 2, 2, 2, 2, 2, 2, 2, 2, 2, 2, 2, 2, 2, 2, 2, 2, 2, 2, 2, 2, 2,\n",
       "       2, 2, 2, 2, 2, 2, 2, 2, 2, 2, 2, 2, 2, 2, 2, 2, 2, 2, 2, 2, 2, 2,\n",
       "       2, 2, 2, 2, 2, 2, 2, 2, 2, 2, 2, 2, 2, 2, 2, 2, 2, 2, 2, 2, 2, 2,\n",
       "       2, 2, 2, 2, 2, 2, 2, 2, 2, 2, 3, 3, 3, 3, 3, 3, 3, 3, 3, 3, 3, 3,\n",
       "       3, 3, 3, 3, 3, 3, 3, 3, 3, 3, 3, 3, 3, 3, 3, 3, 3, 3, 3, 3, 3, 3,\n",
       "       3, 3, 3, 3, 3, 3, 3, 3, 3, 3, 3, 3, 3, 3, 3, 3, 3, 3, 3, 3, 3, 3,\n",
       "       3, 3, 3, 3, 3, 3, 3, 3, 3, 3, 3, 3, 3, 3, 3, 3, 3, 3, 3, 3, 3, 3,\n",
       "       3, 3, 3, 3, 3, 3, 3, 3, 3, 3, 3, 3, 3, 3, 3, 3, 3, 3, 3, 3, 3, 3,\n",
       "       3, 3, 3, 3, 3, 3, 3, 3, 3, 3, 3, 3, 3, 3, 3, 3, 3, 3, 3, 3, 3, 3,\n",
       "       3, 3, 3, 3, 3, 3, 3, 3, 3, 4, 4, 4, 4, 4, 4, 4, 4, 4, 4, 4, 4, 4,\n",
       "       4, 4, 4, 4, 4, 4, 4, 4, 4, 4, 4, 4, 4, 4, 4, 4, 4, 4, 4, 4, 4, 4,\n",
       "       4, 4, 4, 4, 4, 4, 4, 4, 4, 4, 4, 4, 4, 4, 4, 4, 4, 4, 4, 4, 4, 4,\n",
       "       4, 4, 4, 4, 4, 4, 4, 4, 4, 4, 4, 4, 4, 4, 4, 4, 4, 4, 4, 4, 4, 4,\n",
       "       4, 4, 4, 4, 4, 4, 4, 4, 4, 4, 4, 4, 4, 4, 4, 4, 4, 4, 4, 4, 4, 4,\n",
       "       4, 4, 4, 4, 4, 4, 4, 4, 4, 4, 4, 4, 4, 4, 4, 4, 4, 4, 4, 4, 4, 4,\n",
       "       4, 4, 4, 4, 5, 5, 5, 5, 5, 5, 5, 5, 5, 5, 5, 5, 5, 5, 5, 5, 5, 5,\n",
       "       5, 5, 5, 5, 5, 5, 5, 5, 5, 5, 5, 5, 5, 5, 5, 5, 5, 5, 5, 5, 5, 5,\n",
       "       5, 5, 5, 5, 5, 5, 5, 5, 5, 5, 5, 5, 5, 5, 5, 5, 5, 5, 5, 5, 5, 5,\n",
       "       5, 5, 5, 5, 5, 5, 5, 5, 5, 5, 5, 5, 5, 5, 5, 5, 5, 5, 5, 5, 5, 5,\n",
       "       5, 5, 5, 5, 5, 5, 5, 5, 5, 5, 5, 5, 5, 5, 5, 5, 5, 5, 5, 5, 5, 5,\n",
       "       5, 5, 5, 5, 5, 5, 5, 5, 5, 5, 5, 5, 5, 5, 5, 5, 5, 5], dtype=int64)>"
      ]
     },
     "execution_count": 125,
     "metadata": {},
     "output_type": "execute_result"
    }
   ],
   "source": [
    "Y_true = tf.argmax(true_categories,axis=1)\n",
    "Y_true"
   ]
  },
  {
   "cell_type": "code",
   "execution_count": 126,
   "id": "69d8d7f9-1ca7-45cd-b13c-eeb971e5b667",
   "metadata": {},
   "outputs": [],
   "source": [
    "from sklearn.metrics import classification_report,confusion_matrix"
   ]
  },
  {
   "cell_type": "code",
   "execution_count": 130,
   "id": "cb01041e-8af1-4cd7-ae05-1884a8bc9060",
   "metadata": {},
   "outputs": [
    {
     "name": "stdout",
     "output_type": "stream",
     "text": [
      "(766,) (766,)\n"
     ]
    }
   ],
   "source": [
    "print(Y_true.shape, predicted_categories.shape)"
   ]
  },
  {
   "cell_type": "code",
   "execution_count": 131,
   "id": "24a041ea-b303-4a0e-8a7c-1da1bc5ac4bd",
   "metadata": {},
   "outputs": [
    {
     "data": {
      "image/png": "[encoded data removed]",
      "text/plain": [
       "<Figure size 1000x1000 with 2 Axes>"
      ]
     },
     "metadata": {},
     "output_type": "display_data"
    }
   ],
   "source": [
    "import matplotlib.pyplot as plt\n",
    "import seaborn as sns\n",
    "from sklearn.metrics import confusion_matrix\n",
    "\n",
    "# Compute confusion matrix\n",
    "cm = confusion_matrix(Y_true, predicted_categories)\n",
    "\n",
    "# Plot using seaborn\n",
    "plt.figure(figsize=(10, 10))  # Adjust size if needed\n",
    "sns.heatmap(cm, annot=True, fmt='d', cmap='Blues', annot_kws={'size': 15})\n",
    "\n",
    "# Labels and title\n",
    "plt.xlabel(\"Predicted Class\", fontsize=15)\n",
    "plt.ylabel(\"Actual Class\", fontsize=15)\n",
    "plt.title(\"Plant Disease Prediction Confusion Matrix\", fontsize=18)\n",
    "\n",
    "plt.show()"
   ]
  },
  {
   "cell_type": "code",
   "execution_count": 138,
   "id": "38dda5f2-366f-4f83-be7d-0bec4b0b60e3",
   "metadata": {},
   "outputs": [],
   "source": [
    "### load , convert and save TF model"
   ]
  },
  {
   "cell_type": "code",
   "execution_count": 135,
   "id": "6c705462-414f-4ac8-ace4-2a42f2602060",
   "metadata": {},
   "outputs": [],
   "source": [
    "model = tf.keras.models.load_model(\"trained_model.keras\")"
   ]
  },
  {
   "cell_type": "code",
   "execution_count": 136,
   "id": "c48c21e8-59e2-4a03-9fef-9a7e05656493",
   "metadata": {},
   "outputs": [
    {
     "name": "stdout",
     "output_type": "stream",
     "text": [
      "INFO:tensorflow:Assets written to: C:\\Users\\dandy\\AppData\\Local\\Temp\\tmpcbfx2cm2\\assets\n"
     ]
    },
    {
     "name": "stderr",
     "output_type": "stream",
     "text": [
      "INFO:tensorflow:Assets written to: C:\\Users\\dandy\\AppData\\Local\\Temp\\tmpcbfx2cm2\\assets\n"
     ]
    },
    {
     "name": "stdout",
     "output_type": "stream",
     "text": [
      "Saved artifact at 'C:\\Users\\dandy\\AppData\\Local\\Temp\\tmpcbfx2cm2'. The following endpoints are available:\n",
      "\n",
      "* Endpoint 'serve'\n",
      "  args_0 (POSITIONAL_ONLY): TensorSpec(shape=(None, 256, 256, 3), dtype=tf.float32, name='input_layer_3')\n",
      "Output Type:\n",
      "  TensorSpec(shape=(None, 6), dtype=tf.float32, name=None)\n",
      "Captures:\n",
      "  2935374829648: TensorSpec(shape=(), dtype=tf.resource, name=None)\n",
      "  2935374830416: TensorSpec(shape=(), dtype=tf.resource, name=None)\n",
      "  2935374830992: TensorSpec(shape=(), dtype=tf.resource, name=None)\n",
      "  2935374831568: TensorSpec(shape=(), dtype=tf.resource, name=None)\n",
      "  2935374830800: TensorSpec(shape=(), dtype=tf.resource, name=None)\n",
      "  2935374832336: TensorSpec(shape=(), dtype=tf.resource, name=None)\n",
      "  2935374831760: TensorSpec(shape=(), dtype=tf.resource, name=None)\n",
      "  2935374833104: TensorSpec(shape=(), dtype=tf.resource, name=None)\n",
      "  2935374825808: TensorSpec(shape=(), dtype=tf.resource, name=None)\n",
      "  2935374833296: TensorSpec(shape=(), dtype=tf.resource, name=None)\n",
      "  2935374832144: TensorSpec(shape=(), dtype=tf.resource, name=None)\n",
      "  2935374834064: TensorSpec(shape=(), dtype=tf.resource, name=None)\n",
      "  2935374830608: TensorSpec(shape=(), dtype=tf.resource, name=None)\n",
      "  2935374835024: TensorSpec(shape=(), dtype=tf.resource, name=None)\n",
      "  2935374834448: TensorSpec(shape=(), dtype=tf.resource, name=None)\n",
      "  2935374835792: TensorSpec(shape=(), dtype=tf.resource, name=None)\n",
      "  2935374835216: TensorSpec(shape=(), dtype=tf.resource, name=None)\n",
      "  2935374836560: TensorSpec(shape=(), dtype=tf.resource, name=None)\n",
      "  2935374835984: TensorSpec(shape=(), dtype=tf.resource, name=None)\n",
      "  2935374837328: TensorSpec(shape=(), dtype=tf.resource, name=None)\n",
      "  2935374839056: TensorSpec(shape=(), dtype=tf.resource, name=None)\n",
      "  2935374839632: TensorSpec(shape=(), dtype=tf.resource, name=None)\n",
      "  2935380118032: TensorSpec(shape=(), dtype=tf.resource, name=None)\n",
      "  2935380119568: TensorSpec(shape=(), dtype=tf.resource, name=None)\n"
     ]
    }
   ],
   "source": [
    "converter = tf.lite.TFLiteConverter.from_keras_model(model)\n",
    "tflite_model = converter.convert()"
   ]
  },
  {
   "cell_type": "code",
   "execution_count": 137,
   "id": "a5ea1206-5155-46cd-804b-159926ea27ff",
   "metadata": {},
   "outputs": [],
   "source": [
    "# Save the model as a .tflite file\n",
    "with open(\"model.tflite\", \"wb\") as f:\n",
    "    f.write(tflite_model)"
   ]
  },
  {
   "cell_type": "code",
   "execution_count": null,
   "id": "131cae77-9768-4658-be97-f23a307bd396",
   "metadata": {},
   "outputs": [],
   "source": []
  }
 ],
 "metadata": {
  "kernelspec": {
   "display_name": "Python 3 (ipykernel)",
   "language": "python",
   "name": "python3"
  },
  "language_info": {
   "codemirror_mode": {
    "name": "ipython",
    "version": 3
   },
   "file_extension": ".py",
   "mimetype": "text/x-python",
   "name": "python",
   "nbconvert_exporter": "python",
   "pygments_lexer": "ipython3",
   "version": "3.12.4"
  }
 },
 "nbformat": 4,
 "nbformat_minor": 5
}
